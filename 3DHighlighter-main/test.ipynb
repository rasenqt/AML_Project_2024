{
 "cells": [
  {
   "cell_type": "code",
   "execution_count": null,
   "metadata": {},
   "outputs": [],
   "source": [
    "# conda create -n pytorch3d python=3.9\n",
    "# conda activate pytorch3d\n",
    "# conda install pytorch=1.13.0 torchvision pytorch-cuda=11.6 -c pytorch -c nvidia\n",
    "# conda install -c fvcore -c iopath -c conda-forge fvcore iopath"
   ]
  },
  {
   "cell_type": "code",
   "execution_count": 26,
   "metadata": {},
   "outputs": [
    {
     "ename": "ModuleNotFoundError",
     "evalue": "No module named 'pytorch3d'",
     "output_type": "error",
     "traceback": [
      "\u001b[1;31m---------------------------------------------------------------------------\u001b[0m",
      "\u001b[1;31mModuleNotFoundError\u001b[0m                       Traceback (most recent call last)",
      "Cell \u001b[1;32mIn[26], line 6\u001b[0m\n\u001b[0;32m      4\u001b[0m \u001b[38;5;28;01mimport\u001b[39;00m \u001b[38;5;21;01mmatplotlib\u001b[39;00m\u001b[38;5;21;01m.\u001b[39;00m\u001b[38;5;21;01mpyplot\u001b[39;00m \u001b[38;5;28;01mas\u001b[39;00m \u001b[38;5;21;01mplt\u001b[39;00m\n\u001b[0;32m      5\u001b[0m \u001b[38;5;28;01mfrom\u001b[39;00m \u001b[38;5;21;01mmath\u001b[39;00m \u001b[38;5;28;01mimport\u001b[39;00m radians\n\u001b[1;32m----> 6\u001b[0m \u001b[38;5;28;01mfrom\u001b[39;00m \u001b[38;5;21;01mpytorch3d\u001b[39;00m\u001b[38;5;21;01m.\u001b[39;00m\u001b[38;5;21;01mtransforms\u001b[39;00m \u001b[38;5;28;01mimport\u001b[39;00m axis_angle_to_matrix\n\u001b[0;32m      7\u001b[0m \u001b[38;5;66;03m# Util function for loading point clouds|\u001b[39;00m\n\u001b[0;32m      8\u001b[0m \u001b[38;5;28;01mimport\u001b[39;00m \u001b[38;5;21;01mnumpy\u001b[39;00m \u001b[38;5;28;01mas\u001b[39;00m \u001b[38;5;21;01mnp\u001b[39;00m\n",
      "\u001b[1;31mModuleNotFoundError\u001b[0m: No module named 'pytorch3d'"
     ]
    }
   ],
   "source": [
    "import os\n",
    "import torch\n",
    "import torch.nn.functional as F\n",
    "import matplotlib.pyplot as plt\n",
    "from math import radians\n",
    "from pytorch3d.transforms import axis_angle_to_matrix\n",
    "# Util function for loading point clouds|\n",
    "import numpy as np\n",
    "\n",
    "# Data structures and functions for rendering\n",
    "from pytorch3d.structures import Pointclouds\n",
    "from pytorch3d.vis.plotly_vis import AxisArgs, plot_batch_individually, plot_scene\n",
    "from pytorch3d.renderer import (\n",
    "    look_at_rotation,\n",
    "    look_at_view_transform,\n",
    "    FoVOrthographicCameras,\n",
    "    PointsRasterizationSettings,\n",
    "    PointsRenderer,\n",
    "    PulsarPointsRenderer,\n",
    "    PointsRasterizer,\n",
    "    AlphaCompositor,\n",
    "    NormWeightedCompositor,\n",
    "    FoVPerspectiveCameras,\n",
    "    PerspectiveCameras,\n",
    "    rotate_on_spot,\n",
    "    OrthographicCameras\n",
    ")"
   ]
  },
  {
   "cell_type": "code",
   "execution_count": 22,
   "metadata": {},
   "outputs": [
    {
     "name": "stdout",
     "output_type": "stream",
     "text": [
      "tensor([-0.0844, -0.1738, -0.2212])\n",
      "tensor([-0.0843, -0.1761, -0.2207])\n"
     ]
    },
    {
     "ename": "NameError",
     "evalue": "name 'Pointclouds' is not defined",
     "output_type": "error",
     "traceback": [
      "\u001b[1;31m---------------------------------------------------------------------------\u001b[0m",
      "\u001b[1;31mNameError\u001b[0m                                 Traceback (most recent call last)",
      "Cell \u001b[1;32mIn[22], line 35\u001b[0m\n\u001b[0;32m     32\u001b[0m PointCloudNormalizer(pointcloud_classe)()\n\u001b[0;32m     33\u001b[0m \u001b[38;5;28mprint\u001b[39m(pointcloud_classe\u001b[38;5;241m.\u001b[39mvertices[\u001b[38;5;241m0\u001b[39m])\n\u001b[1;32m---> 35\u001b[0m point_cloud \u001b[38;5;241m=\u001b[39m \u001b[43mPointclouds\u001b[49m(points\u001b[38;5;241m=\u001b[39m[verts], features\u001b[38;5;241m=\u001b[39m[rgb_colors])\n\u001b[0;32m     37\u001b[0m R, T \u001b[38;5;241m=\u001b[39m look_at_view_transform(\u001b[38;5;241m3\u001b[39m, \u001b[38;5;241m0\u001b[39m, \u001b[38;5;241m0\u001b[39m)\n\u001b[0;32m     39\u001b[0m angles \u001b[38;5;241m=\u001b[39m [radians(\u001b[38;5;241m0\u001b[39m), radians(\u001b[38;5;241m0\u001b[39m),radians(\u001b[38;5;241m0\u001b[39m)]\n",
      "\u001b[1;31mNameError\u001b[0m: name 'Pointclouds' is not defined"
     ]
    }
   ],
   "source": [
    "import open3d as o3d\n",
    "import torch\n",
    "import torch.nn as nn\n",
    "import numpy as np\n",
    "import torchvision\n",
    "from Normalization import MeshNormalizer,PointCloudNormalizer\n",
    "\n",
    "if torch.cuda.is_available():\n",
    "    device = torch.device(\"cuda:0\")\n",
    "    torch.cuda.set_device(device)\n",
    "else:\n",
    "    device = torch.device(\"cpu\")\n",
    "\n",
    "class point_cloudx():\n",
    "  def __init__(self,verts,rbg_colors):\n",
    "    self.vertices=verts;\n",
    "    self.color=rbg_colors;\n",
    "  def printxx(self):\n",
    "     print(self.vertices.shape[0])\n",
    "\n",
    "pointcloud = o3d.io.read_point_cloud('../point_cloud_dataset/giraffe.ply')\n",
    "\n",
    "# Get vertex positions\n",
    "verts = torch.Tensor(np.asarray(pointcloud.points)).to(device)\n",
    "manual_color = torch.tensor([0.0, 1.0, 0.0], dtype=torch.float32, device=device)\n",
    "rgb_colors = manual_color.repeat(verts.shape[0], 1)\n",
    "\n",
    "#point_cloud = Pointclouds(points=[verts], features=[rgb_colors])\n",
    "pointcloud_classe=point_cloudx(verts,rgb_colors)\n",
    "#print(pointcloud_classe.printxx())\n",
    "print(pointcloud_classe.vertices[0])\n",
    "PointCloudNormalizer(pointcloud_classe)()\n",
    "print(pointcloud_classe.vertices[0])\n",
    "\n",
    "point_cloud = Pointclouds(points=[verts], features=[rgb_colors])\n",
    "\n",
    "R, T = look_at_view_transform(3, 0, 0)\n",
    "\n",
    "angles = [radians(0), radians(0),radians(0)]\n",
    "rotation = axis_angle_to_matrix(torch.FloatTensor(angles))\n",
    "R, T = rotate_on_spot(R, T, rotation)\n",
    "cameras = FoVPerspectiveCameras(device=device, R=R, T=T, znear=0.01)#questa la fa di fronte\n",
    "\n",
    "# Define the settings for rasterization and shading. Here we set the output image to be of size\n",
    "# 512x512. As we are rendering images for visualization purposes only we will set faces_per_pixel=1\n",
    "# and blur_radius=0.0. Refer to raster_points.py for explanations of these parameters.\n",
    "raster_settings = PointsRasterizationSettings(\n",
    "    image_size=512,\n",
    "    radius = 0.003,\n",
    "    points_per_pixel = 10\n",
    ")\n",
    "renderer = PointsRenderer(\n",
    "    rasterizer=PointsRasterizer(cameras=cameras, raster_settings=raster_settings),\n",
    "    compositor=NormWeightedCompositor()\n",
    ")\n",
    "\n",
    "\n",
    "images = renderer(point_cloud)\n",
    "plt.figure(figsize=(10, 10))\n",
    "plt.imshow(images[0, ..., :3].cpu().numpy())\n",
    "plt.axis(\"off\");"
   ]
  },
  {
   "cell_type": "code",
   "execution_count": null,
   "metadata": {},
   "outputs": [],
   "source": []
  }
 ],
 "metadata": {
  "kernelspec": {
   "display_name": "base",
   "language": "python",
   "name": "python3"
  },
  "language_info": {
   "codemirror_mode": {
    "name": "ipython",
    "version": 3
   },
   "file_extension": ".py",
   "mimetype": "text/x-python",
   "name": "python",
   "nbconvert_exporter": "python",
   "pygments_lexer": "ipython3",
   "version": "3.11.5"
  }
 },
 "nbformat": 4,
 "nbformat_minor": 2
}
